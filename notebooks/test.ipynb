{
 "cells": [
  {
   "cell_type": "markdown",
   "metadata": {
    "vscode": {
     "languageId": "plaintext"
    }
   },
   "source": [
    "pomysł:\n",
    "    zakodowanie planszy jako liczb. dokładniej: jak mamy 9 plansz to podzielimy je na 3 liczby. wtedy będzie można łatwo sprawdzać czy ktoś wygrał switch case\n"
   ]
  },
  {
   "cell_type": "code",
   "execution_count": 1,
   "metadata": {},
   "outputs": [
    {
     "data": {
      "text/plain": [
       "[[1, 2, 4], [8, 16, 32], [64, 128, 256]]"
      ]
     },
     "execution_count": 1,
     "metadata": {},
     "output_type": "execute_result"
    }
   ],
   "source": [
    "MainBoard = [list(2 ** i for i in range(0, 9)), list(2 ** i for i in range(9, 18)), list(2 ** i for i in range(18, 27))]\n",
    "\n",
    "boardA = [list(2 ** i for i in range(0, 3)), list(2 ** i for i in range(3, 6)), list(2 ** i for i in range(6, 9))]\n",
    "boardB = [list(2 ** i for i in range(9, 12)), list(2 ** i for i in range(12, 15)), list(2 ** i for i in range(15, 18))]\n",
    "boardC = [list(2 ** i for i in range(18, 21)), list(2 ** i for i in range(21, 24)), list(2 ** i for i in range(24, 27))]\n",
    "\n",
    "boardA"
   ]
  },
  {
   "cell_type": "code",
   "execution_count": 2,
   "metadata": {},
   "outputs": [],
   "source": [
    "def check_for_end(board):\n",
    "    for i in range(3):\n",
    "        if all([board[i][j] == 1 for j in range(3)]):\n",
    "            return 1\n",
    "    \n",
    "    for j in range(3):\n",
    "        if all([board[i][j] == 1 for i in range(3)]):\n",
    "            return 1\n",
    "   \n",
    "    if all([board[i][i] == 1 for i in range(3)]): \n",
    "        return 1\n",
    "    \n",
    "    if all([board[i][2 - i] == 1 for i in range(3)]): \n",
    "        return 1\n",
    "    \n",
    "    return 0\n",
    "\n",
    "def Generate_endings():\n",
    "    ends = []\n",
    "    for terraMask in range(0, 2 ** 9):\n",
    "        boardMask = [[0 for _ in range(3)] for _ in range(3)]\n",
    "        \n",
    "        for i in range(3):\n",
    "            for j in range(3):\n",
    "                boardMask[i][j] = terraMask % 2\n",
    "                terraMask //= 2\n",
    "        \n",
    "        if check_for_end(boardMask) == 0:\n",
    "            continue\n",
    "            \n",
    "        end = 0\n",
    "        for i in range(3):\n",
    "            for j in range(3):\n",
    "                if boardMask[i][j] == 1:\n",
    "                    end += boardA[i][j]\n",
    "        ends.append(end)\n",
    "    return ends\n",
    "    \n",
    "def generate_endings(boardX):\n",
    "    ends = []\n",
    "    for terraMask in range(0, 3 ** 9):\n",
    "        boardMask = [[0 for _ in range(3)] for _ in range(3)]\n",
    "        \n",
    "        for i in range(3):\n",
    "            for j in range(3):\n",
    "                boardMask[i][j] = terraMask % 3\n",
    "                terraMask //= 3\n",
    "        \n",
    "        if check_for_end(boardMask) == 0:\n",
    "            continue\n",
    "            \n",
    "        end = 0\n",
    "        for i in range(3):\n",
    "            for j in range(3):\n",
    "                if boardMask[i][j] == 1:\n",
    "                    end += boardA[i][j]\n",
    "        ends.append(end)\n",
    "    return ends\n",
    "\n",
    "def check_int(x):\n",
    "    baord = [[]]\n",
    "\n",
    "ends = Generate_endings()"
   ]
  },
  {
   "cell_type": "code",
   "execution_count": null,
   "metadata": {},
   "outputs": [
    {
     "name": "stdout",
     "output_type": "stream",
     "text": [
      "[7, 15, 23, 31, 39, 47, 55, 56, 57, 58, 59, 60, 61, 62, 63, 71, 73, 75, 77, 79, 84, 85, 86, 87, 89, 91, 92, 93, 94, 95, 103, 105, 107, 109, 111, 116, 117, 118, 119, 120, 121, 122, 123, 124, 125, 126, 127, 135, 143, 146, 147, 150, 151, 154, 155, 158, 159, 167, 175, 178, 179, 182, 183, 184, 185, 186, 187, 188, 189, 190, 191, 199, 201, 203, 205, 207, 210, 211, 212, 213, 214, 215, 217, 218, 219, 220, 221, 222, 223, 231, 233, 235, 237, 239, 242, 243, 244, 245, 246, 247, 248, 249, 250, 251, 252, 253, 254, 255, 263, 271, 273, 275, 277, 279, 281, 283, 285, 287, 292, 293, 294, 295, 300, 301, 302, 303, 305, 307, 308, 309, 310, 311, 312, 313, 314, 315, 316, 317, 318, 319, 327, 329, 331, 333, 335, 337, 339, 340, 341, 342, 343, 345, 347, 348, 349, 350, 351, 356, 357, 358, 359, 361, 363, 364, 365, 366, 367, 369, 371, 372, 373, 374, 375, 376, 377, 378, 379, 380, 381, 382, 383, 391, 399, 401, 402, 403, 405, 406, 407, 409, 410, 411, 413, 414, 415, 420, 421, 422, 423, 428, 429, 430, 431, 433, 434, 435, 436, 437, 438, 439, 440, 441, 442, 443, 444, 445, 446, 447, 448, 449, 450, 451, 452, 453, 454, 455, 456, 457, 458, 459, 460, 461, 462, 463, 464, 465, 466, 467, 468, 469, 470, 471, 472, 473, 474, 475, 476, 477, 478, 479, 480, 481, 482, 483, 484, 485, 486, 487, 488, 489, 490, 491, 492, 493, 494, 495, 496, 497, 498, 499, 500, 501, 502, 503, 504, 505, 506, 507, 508, 509, 510, 511]\n"
     ]
    },
    {
     "data": {
      "text/plain": [
       "282"
      ]
     },
     "execution_count": 3,
     "metadata": {},
     "output_type": "execute_result"
    }
   ],
   "source": [
    "ends = list(set(ends))\n",
    "print(ends, sep=',')"
   ]
  },
  {
   "cell_type": "code",
   "execution_count": 4,
   "metadata": {},
   "outputs": [
    {
     "ename": "NameError",
     "evalue": "name 'ok' is not defined",
     "output_type": "error",
     "traceback": [
      "\u001b[31m---------------------------------------------------------------------------\u001b[39m",
      "\u001b[31mNameError\u001b[39m                                 Traceback (most recent call last)",
      "\u001b[36mCell\u001b[39m\u001b[36m \u001b[39m\u001b[32mIn[4]\u001b[39m\u001b[32m, line 2\u001b[39m\n\u001b[32m      1\u001b[39m jjjjok = [(\u001b[32m1\u001b[39m, i) \u001b[38;5;28;01mif\u001b[39;00m i \u001b[38;5;129;01min\u001b[39;00m ends \u001b[38;5;28;01melse\u001b[39;00m (\u001b[32m0\u001b[39m, i) \u001b[38;5;28;01mfor\u001b[39;00m i \u001b[38;5;129;01min\u001b[39;00m \u001b[38;5;28mrange\u001b[39m(\u001b[32m0\u001b[39m, \u001b[32m2\u001b[39m ** \u001b[32m9\u001b[39m)]\n\u001b[32m----> \u001b[39m\u001b[32m2\u001b[39m \u001b[38;5;28mprint\u001b[39m(*\u001b[43mok\u001b[49m, sep=\u001b[33m'\u001b[39m\u001b[33m,\u001b[39m\u001b[33m'\u001b[39m)\n",
      "\u001b[31mNameError\u001b[39m: name 'ok' is not defined"
     ]
    }
   ],
   "source": [
    "jjjjok = [(1, i) if i in ends else (0, i) for i in range(0, 2 ** 9)]\n",
    "print(*ok, sep=',')\n"
   ]
  },
  {
   "cell_type": "code",
   "execution_count": 5,
   "metadata": {},
   "outputs": [
    {
     "name": "stdout",
     "output_type": "stream",
     "text": [
      "[0, 1, 2, 0, 1, 2, 0, 1, 2, 0, 1, 2, 0, 1, 2, 0, 1, 2, 0, 1, 2, 0, 1, 2, 0, 1, 2]\n"
     ]
    }
   ],
   "source": [
    "print([bit % 3 for bit in range(0, 27)])\n",
    "\n",
    "    "
   ]
  }
 ],
 "metadata": {
  "kernelspec": {
   "display_name": "base",
   "language": "python",
   "name": "python3"
  },
  "language_info": {
   "codemirror_mode": {
    "name": "ipython",
    "version": 3
   },
   "file_extension": ".py",
   "mimetype": "text/x-python",
   "name": "python",
   "nbconvert_exporter": "python",
   "pygments_lexer": "ipython3",
   "version": "3.13.2"
  }
 },
 "nbformat": 4,
 "nbformat_minor": 2
}
